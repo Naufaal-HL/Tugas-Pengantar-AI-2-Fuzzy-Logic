{
  "nbformat": 4,
  "nbformat_minor": 0,
  "metadata": {
    "colab": {
      "name": "Tugas 2 - Kelompok 1 - Reasoning (Fuzzy Logic).ipynb",
      "provenance": [],
      "collapsed_sections": [],
      "mount_file_id": "1otwnCowbHqe8oegFHhfUgU7WFwnEZBea",
      "authorship_tag": "ABX9TyMlvNP7SDUo++XxddeEv9fS"
    },
    "kernelspec": {
      "name": "python3",
      "display_name": "Python 3"
    },
    "language_info": {
      "name": "python"
    }
  },
  "cells": [
    {
      "cell_type": "code",
      "metadata": {
        "id": "QV5ORJUlFobi"
      },
      "source": [
        "import numpy as np\n",
        "import pandas as pd\n",
        "import seaborn as sns\n",
        "import matplotlib.pyplot as plt"
      ],
      "execution_count": 855,
      "outputs": []
    },
    {
      "cell_type": "markdown",
      "metadata": {
        "id": "snCM6J-9LqL3"
      },
      "source": [
        "## **Membaca File Dataset**"
      ]
    },
    {
      "cell_type": "code",
      "metadata": {
        "id": "mlp_yFi9FxsA",
        "colab": {
          "base_uri": "https://localhost:8080/",
          "height": 195
        },
        "outputId": "919538ff-f493-45ff-e3d4-86dad821f7fa"
      },
      "source": [
        "data = pd.read_excel(\"https://github.com/ShinyQ/Tugas-Pengantar-AI-2_Fuzzy_Logic/blob/main/restoran.xlsx?raw=true\")\n",
        "data.sample(5)"
      ],
      "execution_count": 856,
      "outputs": [
        {
          "output_type": "execute_result",
          "data": {
            "text/html": [
              "<div>\n",
              "<style scoped>\n",
              "    .dataframe tbody tr th:only-of-type {\n",
              "        vertical-align: middle;\n",
              "    }\n",
              "\n",
              "    .dataframe tbody tr th {\n",
              "        vertical-align: top;\n",
              "    }\n",
              "\n",
              "    .dataframe thead th {\n",
              "        text-align: right;\n",
              "    }\n",
              "</style>\n",
              "<table border=\"1\" class=\"dataframe\">\n",
              "  <thead>\n",
              "    <tr style=\"text-align: right;\">\n",
              "      <th></th>\n",
              "      <th>id</th>\n",
              "      <th>pelayanan</th>\n",
              "      <th>makanan</th>\n",
              "    </tr>\n",
              "  </thead>\n",
              "  <tbody>\n",
              "    <tr>\n",
              "      <th>90</th>\n",
              "      <td>91</td>\n",
              "      <td>98</td>\n",
              "      <td>3</td>\n",
              "    </tr>\n",
              "    <tr>\n",
              "      <th>64</th>\n",
              "      <td>65</td>\n",
              "      <td>3</td>\n",
              "      <td>8</td>\n",
              "    </tr>\n",
              "    <tr>\n",
              "      <th>59</th>\n",
              "      <td>60</td>\n",
              "      <td>79</td>\n",
              "      <td>6</td>\n",
              "    </tr>\n",
              "    <tr>\n",
              "      <th>2</th>\n",
              "      <td>3</td>\n",
              "      <td>98</td>\n",
              "      <td>2</td>\n",
              "    </tr>\n",
              "    <tr>\n",
              "      <th>4</th>\n",
              "      <td>5</td>\n",
              "      <td>11</td>\n",
              "      <td>4</td>\n",
              "    </tr>\n",
              "  </tbody>\n",
              "</table>\n",
              "</div>"
            ],
            "text/plain": [
              "    id  pelayanan  makanan\n",
              "90  91         98        3\n",
              "64  65          3        8\n",
              "59  60         79        6\n",
              "2    3         98        2\n",
              "4    5         11        4"
            ]
          },
          "metadata": {
            "tags": []
          },
          "execution_count": 856
        }
      ]
    },
    {
      "cell_type": "markdown",
      "metadata": {
        "id": "YuOjvFRcLuLm"
      },
      "source": [
        "# **Fuzzifikasi**"
      ]
    },
    {
      "cell_type": "markdown",
      "metadata": {
        "id": "4gtjFihFpwPR"
      },
      "source": [
        "## **Membership Function**"
      ]
    },
    {
      "cell_type": "markdown",
      "metadata": {
        "id": "Hws7yn5ah0xG"
      },
      "source": [
        "#### **Membership Function Makanan**\n",
        "##### 1 - 3  = Tidak Enak\n",
        "##### 4 - 7 = Enak\n",
        "##### 8 - 10 = Sangat Enak "
      ]
    },
    {
      "cell_type": "code",
      "metadata": {
        "id": "Qx7b8dop3brr"
      },
      "source": [
        "def fuzzy_makanan(x):\n",
        "    makanan = {'Tidak Enak': 0, 'Enak': 0, 'Sangat Enak': 0}\n",
        "\n",
        "    if x <= 3:\n",
        "        makanan['Tidak Enak'] = 1\n",
        "    if 4 <= x <= 7:\n",
        "        makanan['Enak'] = 1\n",
        "    if x >= 8:\n",
        "        makanan['Sangat Enak'] = 1\n",
        "            \n",
        "    if 3 < x <= 4:\n",
        "        makanan['Tidak Enak'] = -(x - 4) / (4 - 3)\n",
        "    if 3 < x < 4:\n",
        "        makanan['Enak'] = (x - 3) / (4 - 3)\n",
        "    if 6 < x <= 8:\n",
        "        makanan['Enak'] = -(x - 8) / (8 - 6)\n",
        "    if 6 < x < 8:\n",
        "        makanan['Sangat Enak'] = (x - 6) / (8 - 6)\n",
        "        \n",
        "    return makanan"
      ],
      "execution_count": 857,
      "outputs": []
    },
    {
      "cell_type": "code",
      "metadata": {
        "colab": {
          "base_uri": "https://localhost:8080/",
          "height": 241
        },
        "id": "seNGl3RdkAVo",
        "outputId": "68c46a80-91e0-4154-efb4-41988b8f0ff5"
      },
      "source": [
        "plt.figure(figsize=(12, 3))\n",
        "plt.title(\"Membership Function Kualitas Makanan\")\n",
        "plt.plot(range(10), [fuzzy_makanan(x)['Tidak Enak'] for x in range(10)], 'r')\n",
        "plt.plot(range(10), [fuzzy_makanan(x)['Enak'] for x in range(10)], 'g')\n",
        "plt.plot(range(10), [fuzzy_makanan(x)['Sangat Enak'] for x in range(10)], 'b')\n",
        "\n",
        "plt.plot(0, 0, 'r', linewidth=1.5, label='Tidak Enak')\n",
        "plt.plot(0, 0, 'g', linewidth=1.5, label='Enak')\n",
        "plt.plot(0, 0, 'b', linewidth=1.5, label='Sangat Enak')\n",
        "\n",
        "plt.xlabel(\"value / x\")\n",
        "plt.legend()\n",
        "plt.show()"
      ],
      "execution_count": 858,
      "outputs": [
        {
          "output_type": "display_data",
          "data": {
            "image/png": "[encoded data removed]",
            "text/plain": [
              "<Figure size 864x216 with 1 Axes>"
            ]
          },
          "metadata": {
            "tags": [],
            "needs_background": "light"
          }
        }
      ]
    },
    {
      "cell_type": "markdown",
      "metadata": {
        "id": "kHeG7VZ-iWhW"
      },
      "source": [
        "#### **Membership Function Pelayanan**\n",
        "##### 1 - 35  = Kurang\n",
        "##### 36 - 70 = Baik\n",
        "##### 71 - 100 = Sangat Baik"
      ]
    },
    {
      "cell_type": "code",
      "metadata": {
        "id": "uCxKDOiwS81I"
      },
      "source": [
        "def fuzzy_pelayanan(x):\n",
        "    pelayanan = {'Kurang': 0, 'Baik': 0, 'Sangat Baik': 0}\n",
        "\n",
        "    if x <= 35:\n",
        "        pelayanan['Kurang'] = 1\n",
        "    if 36 <= x <= 70:\n",
        "        pelayanan['Baik'] = 1\n",
        "    if x >= 71:\n",
        "        pelayanan['Sangat Baik'] = 1\n",
        "            \n",
        "    if 35 < x <= 36:\n",
        "        pelayanan['Kurang'] = -(x - 36) / (36 - 35)\n",
        "    if 35 < x < 36:\n",
        "        pelayanan['Baik'] = (x - 35) / (36 - 35)\n",
        "    if 70 < x <= 71:\n",
        "        pelayanan['Baik'] = -(x - 71) / (71 - 70)\n",
        "    if 70 < x < 71:\n",
        "        pelayanan['Sangat Baik'] = (x - 70) / (71 - 70)\n",
        "        \n",
        "    return pelayanan"
      ],
      "execution_count": 859,
      "outputs": []
    },
    {
      "cell_type": "code",
      "metadata": {
        "colab": {
          "base_uri": "https://localhost:8080/",
          "height": 241
        },
        "id": "CvqQSoTVu07T",
        "outputId": "eb53425b-08d1-4eca-93fd-56a9dcdb9cb1"
      },
      "source": [
        "plt.figure(figsize=(12, 3))\n",
        "plt.title(\"Membership Function Kualitas Pelayanan\")\n",
        "\n",
        "plt.plot(range(100), [fuzzy_pelayanan(x)['Kurang'] for x in range(100)], 'r')\n",
        "plt.plot(range(100), [fuzzy_pelayanan(x)['Baik'] for x in range(100)], 'g')\n",
        "plt.plot(range(100), [fuzzy_pelayanan(x)['Sangat Baik'] for x in range(100)], 'b')\n",
        "\n",
        "plt.plot(0, 0, 'r', linewidth=1.5, label='Kurang')\n",
        "plt.plot(0, 0, 'g', linewidth=1.5, label='Baik')\n",
        "plt.plot(0, 0, 'b', linewidth=1.5, label='Sangat Baik')\n",
        "\n",
        "plt.xlabel(\"value / x\")\n",
        "plt.legend()\n",
        "plt.show()"
      ],
      "execution_count": 860,
      "outputs": [
        {
          "output_type": "display_data",
          "data": {
            "image/png": "[encoded data removed]",
            "text/plain": [
              "<Figure size 864x216 with 1 Axes>"
            ]
          },
          "metadata": {
            "tags": [],
            "needs_background": "light"
          }
        }
      ]
    },
    {
      "cell_type": "markdown",
      "metadata": {
        "id": "3cH5Ufn0p6yW"
      },
      "source": [
        "## **Proses Fuzzifikasi**"
      ]
    },
    {
      "cell_type": "code",
      "metadata": {
        "colab": {
          "base_uri": "https://localhost:8080/"
        },
        "id": "mtxrfe8rhhQU",
        "outputId": "bc274e3a-5487-4819-9e66-fda7389fdb64"
      },
      "source": [
        "fuzzify = []\n",
        "\n",
        "for pelayanan, makanan in zip(data['pelayanan'], data['makanan']):\n",
        "    fuzzy = {'Pelayanan': 0, 'Makanan': 0}\n",
        "\n",
        "    fuzzy['Pelayanan'] = fuzzy_pelayanan(pelayanan)\n",
        "    fuzzy['Makanan'] = fuzzy_makanan(makanan)\n",
        "\n",
        "    fuzzify.append(fuzzy)\n",
        "\n",
        "fuzzify[0], fuzzify[1]"
      ],
      "execution_count": 861,
      "outputs": [
        {
          "output_type": "execute_result",
          "data": {
            "text/plain": [
              "({'Makanan': {'Enak': 0.5, 'Sangat Enak': 0.5, 'Tidak Enak': 0},\n",
              "  'Pelayanan': {'Baik': 1, 'Kurang': 0, 'Sangat Baik': 0}},\n",
              " {'Makanan': {'Enak': 0, 'Sangat Enak': 0, 'Tidak Enak': 1},\n",
              "  'Pelayanan': {'Baik': 1, 'Kurang': 0, 'Sangat Baik': 0}})"
            ]
          },
          "metadata": {
            "tags": []
          },
          "execution_count": 861
        }
      ]
    },
    {
      "cell_type": "markdown",
      "metadata": {
        "id": "suorer8TLy2m"
      },
      "source": [
        "## **Inferensi**"
      ]
    },
    {
      "cell_type": "code",
      "metadata": {
        "id": "5Z2nb3EuMN12"
      },
      "source": [
        "def inference():"
      ],
      "execution_count": null,
      "outputs": []
    },
    {
      "cell_type": "markdown",
      "metadata": {
        "id": "1JKS6HXkL2mf"
      },
      "source": [
        "## **Defuzzifikasi**"
      ]
    },
    {
      "cell_type": "code",
      "metadata": {
        "id": "PBHX_0kLMOlF"
      },
      "source": [
        "def defuzzification():"
      ],
      "execution_count": null,
      "outputs": []
    },
    {
      "cell_type": "markdown",
      "metadata": {
        "id": "68j_sn07MfJe"
      },
      "source": [
        "## **Hasil**"
      ]
    },
    {
      "cell_type": "code",
      "metadata": {
        "id": "L8azC_zqMkZm"
      },
      "source": [
        ""
      ],
      "execution_count": null,
      "outputs": []
    }
  ]
}