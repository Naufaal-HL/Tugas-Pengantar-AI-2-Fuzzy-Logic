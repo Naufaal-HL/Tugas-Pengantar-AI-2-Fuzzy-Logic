{
  "nbformat": 4,
  "nbformat_minor": 0,
  "metadata": {
    "colab": {
      "name": "Tugas 2 - Kelompok 1 - Reasoning (Fuzzy Logic).ipynb",
      "provenance": [],
      "collapsed_sections": [],
      "mount_file_id": "1otwnCowbHqe8oegFHhfUgU7WFwnEZBea",
      "authorship_tag": "ABX9TyNaAqSKgJ2ClR8I9aePJUNX"
    },
    "kernelspec": {
      "name": "python3",
      "display_name": "Python 3"
    },
    "language_info": {
      "name": "python"
    }
  },
  "cells": [
    {
      "cell_type": "code",
      "metadata": {
        "id": "QV5ORJUlFobi"
      },
      "source": [
        "import numpy as np\n",
        "import pandas as pd\n",
        "import seaborn as sns\n",
        "import matplotlib.pyplot as plt"
      ],
      "execution_count": 515,
      "outputs": []
    },
    {
      "cell_type": "markdown",
      "metadata": {
        "id": "snCM6J-9LqL3"
      },
      "source": [
        "## **Membaca File**"
      ]
    },
    {
      "cell_type": "code",
      "metadata": {
        "id": "mlp_yFi9FxsA",
        "colab": {
          "base_uri": "https://localhost:8080/",
          "height": 195
        },
        "outputId": "d1977e01-f760-4018-e0a9-56fcd813f7dc"
      },
      "source": [
        "data = pd.read_excel(\"https://github.com/ShinyQ/Tugas-Pengantar-AI-2_Fuzzy_Logic/blob/main/restoran.xlsx?raw=true\")\n",
        "data.sample(5)"
      ],
      "execution_count": 516,
      "outputs": [
        {
          "output_type": "execute_result",
          "data": {
            "text/html": [
              "<div>\n",
              "<style scoped>\n",
              "    .dataframe tbody tr th:only-of-type {\n",
              "        vertical-align: middle;\n",
              "    }\n",
              "\n",
              "    .dataframe tbody tr th {\n",
              "        vertical-align: top;\n",
              "    }\n",
              "\n",
              "    .dataframe thead th {\n",
              "        text-align: right;\n",
              "    }\n",
              "</style>\n",
              "<table border=\"1\" class=\"dataframe\">\n",
              "  <thead>\n",
              "    <tr style=\"text-align: right;\">\n",
              "      <th></th>\n",
              "      <th>id</th>\n",
              "      <th>pelayanan</th>\n",
              "      <th>makanan</th>\n",
              "    </tr>\n",
              "  </thead>\n",
              "  <tbody>\n",
              "    <tr>\n",
              "      <th>31</th>\n",
              "      <td>32</td>\n",
              "      <td>42</td>\n",
              "      <td>3</td>\n",
              "    </tr>\n",
              "    <tr>\n",
              "      <th>87</th>\n",
              "      <td>88</td>\n",
              "      <td>18</td>\n",
              "      <td>9</td>\n",
              "    </tr>\n",
              "    <tr>\n",
              "      <th>14</th>\n",
              "      <td>15</td>\n",
              "      <td>78</td>\n",
              "      <td>5</td>\n",
              "    </tr>\n",
              "    <tr>\n",
              "      <th>92</th>\n",
              "      <td>93</td>\n",
              "      <td>40</td>\n",
              "      <td>8</td>\n",
              "    </tr>\n",
              "    <tr>\n",
              "      <th>1</th>\n",
              "      <td>2</td>\n",
              "      <td>54</td>\n",
              "      <td>1</td>\n",
              "    </tr>\n",
              "  </tbody>\n",
              "</table>\n",
              "</div>"
            ],
            "text/plain": [
              "    id  pelayanan  makanan\n",
              "31  32         42        3\n",
              "87  88         18        9\n",
              "14  15         78        5\n",
              "92  93         40        8\n",
              "1    2         54        1"
            ]
          },
          "metadata": {
            "tags": []
          },
          "execution_count": 516
        }
      ]
    },
    {
      "cell_type": "markdown",
      "metadata": {
        "id": "YuOjvFRcLuLm"
      },
      "source": [
        "## **Fuzzifikasi (Membership Function)**"
      ]
    },
    {
      "cell_type": "markdown",
      "metadata": {
        "id": "Hws7yn5ah0xG"
      },
      "source": [
        "#### **Membership Function Makanan**\n",
        "##### 1 - 15  = Tidak Enak\n",
        "##### 16 - 20 = Enak\n",
        "##### 21 - 30 = Sangat Enak "
      ]
    },
    {
      "cell_type": "code",
      "metadata": {
        "id": "Qx7b8dop3brr"
      },
      "source": [
        "def fuzzy_makanan(x):\n",
        "    makanan = {'Tidak Enak': 0, 'Enak': 0, 'Sangat Enak': 0}\n",
        "\n",
        "    if x <= 15:\n",
        "        makanan['Tidak Enak'] = 1\n",
        "    if 16 <= x <= 20:\n",
        "        makanan['Enak'] = 1\n",
        "    if x >= 21:\n",
        "        makanan['Sangat Enak'] = 1\n",
        "            \n",
        "    if 15 < x <= 16:\n",
        "        makanan['Tidak Enak'] = -(x - 16) / (16 - 15)\n",
        "    if 15 < x < 16:\n",
        "        makanan['Enak'] = (x - 15) / (16 - 15)\n",
        "    if 20 < x <= 21:\n",
        "        makanan['Enak'] = -(x - 21) / (21 - 20)\n",
        "    if 20 < x < 21:\n",
        "        makanan['Sangat Enak'] = (x - 20) / (21 - 20)\n",
        "        \n",
        "    return makanan"
      ],
      "execution_count": 517,
      "outputs": []
    },
    {
      "cell_type": "code",
      "metadata": {
        "colab": {
          "base_uri": "https://localhost:8080/",
          "height": 281
        },
        "id": "seNGl3RdkAVo",
        "outputId": "6794acf9-9708-44b9-843d-f558b5eecab7"
      },
      "source": [
        "plt.figure(figsize=(8, 4))\n",
        "plt.title(\"Membership Function Kualitas Makanan\")\n",
        "plt.plot(range(30), [fuzzy_makanan(x)['Tidak Enak'] for x in range(30)], 'r')\n",
        "plt.plot(range(30), [fuzzy_makanan(x)['Enak'] for x in range(30)], 'g')\n",
        "plt.plot(range(30), [fuzzy_makanan(x)['Sangat Enak'] for x in range(30)], 'b')\n",
        "\n",
        "plt.plot(0, 0, 'r', linewidth=1.5, label='Tidak Enak')\n",
        "plt.plot(0, 0, 'g', linewidth=1.5, label='Enak')\n",
        "plt.plot(0, 0, 'b', linewidth=1.5, label='Sangat Enak')\n",
        "\n",
        "plt.legend()\n",
        "plt.show()"
      ],
      "execution_count": 518,
      "outputs": [
        {
          "output_type": "display_data",
          "data": {
            "image/png": "[encoded data removed]",
            "text/plain": [
              "<Figure size 576x288 with 1 Axes>"
            ]
          },
          "metadata": {
            "tags": [],
            "needs_background": "light"
          }
        }
      ]
    },
    {
      "cell_type": "markdown",
      "metadata": {
        "id": "kHeG7VZ-iWhW"
      },
      "source": [
        "#### **Fuzzy Pelayanan**\n",
        "##### 1 - 30  = Kurang\n",
        "##### 31 - 70 = Baik\n",
        "##### 71 - 100 = Sangat Baik"
      ]
    },
    {
      "cell_type": "code",
      "metadata": {
        "id": "uCxKDOiwS81I"
      },
      "source": [
        "def fuzzy_pelayanan(x):\n",
        "    pelayanan = {'Kurang': 0, 'Baik': 0, 'Sangat Baik': 0}\n",
        "\n",
        "    if x <= 30:\n",
        "        pelayanan['Kurang'] = 1\n",
        "    if 31 <= x <= 70:\n",
        "        pelayanan['Baik'] = 1\n",
        "    if x >= 71:\n",
        "        pelayanan['Sangat Baik'] = 1\n",
        "            \n",
        "    if 30 < x <= 31:\n",
        "        pelayanan['Kurang'] = -(x - 31) / (31 - 30)\n",
        "    if 30 < x < 31:\n",
        "        pelayanan['Baik'] = (x - 30) / (31 - 30)\n",
        "    if 70 < x <= 71:\n",
        "        pelayanan['Baik'] = -(x - 71) / (71 - 70)\n",
        "    if 70 < x < 71:\n",
        "        pelayanan['Sangat Baik'] = (x - 71) / (71 - 70)\n",
        "        \n",
        "    return pelayanan\n"
      ],
      "execution_count": 519,
      "outputs": []
    },
    {
      "cell_type": "code",
      "metadata": {
        "colab": {
          "base_uri": "https://localhost:8080/",
          "height": 281
        },
        "id": "CvqQSoTVu07T",
        "outputId": "d91cfcf6-55ae-42d3-d45d-f005259a1116"
      },
      "source": [
        "plt.figure(figsize=(10, 4))\n",
        "plt.title(\"Membership Function Kualitas Pelayanan\")\n",
        "\n",
        "plt.plot(range(100), [fuzzy_pelayanan(x)['Kurang'] for x in range(100)], 'r')\n",
        "plt.plot(range(100), [fuzzy_pelayanan(x)['Baik'] for x in range(100)], 'g')\n",
        "plt.plot(range(100), [fuzzy_pelayanan(x)['Sangat Baik'] for x in range(100)], 'b')\n",
        "\n",
        "plt.plot(0, 0, 'r', linewidth=1.5, label='Kurang')\n",
        "plt.plot(0, 0, 'g', linewidth=1.5, label='Baik')\n",
        "plt.plot(0, 0, 'b', linewidth=1.5, label='Sangat Baik')\n",
        "\n",
        "plt.legend()\n",
        "plt.show()"
      ],
      "execution_count": 520,
      "outputs": [
        {
          "output_type": "display_data",
          "data": {
            "image/png": "[encoded data removed]",
            "text/plain": [
              "<Figure size 720x288 with 1 Axes>"
            ]
          },
          "metadata": {
            "tags": [],
            "needs_background": "light"
          }
        }
      ]
    },
    {
      "cell_type": "markdown",
      "metadata": {
        "id": "suorer8TLy2m"
      },
      "source": [
        "## **Inferensi**"
      ]
    },
    {
      "cell_type": "code",
      "metadata": {
        "id": "5Z2nb3EuMN12"
      },
      "source": [
        "def inference():"
      ],
      "execution_count": null,
      "outputs": []
    },
    {
      "cell_type": "markdown",
      "metadata": {
        "id": "1JKS6HXkL2mf"
      },
      "source": [
        "## **Defuzzifikasi**"
      ]
    },
    {
      "cell_type": "code",
      "metadata": {
        "id": "PBHX_0kLMOlF"
      },
      "source": [
        "def defuzzification():"
      ],
      "execution_count": null,
      "outputs": []
    },
    {
      "cell_type": "markdown",
      "metadata": {
        "id": "68j_sn07MfJe"
      },
      "source": [
        "## **Hasil**"
      ]
    },
    {
      "cell_type": "code",
      "metadata": {
        "id": "L8azC_zqMkZm"
      },
      "source": [
        ""
      ],
      "execution_count": null,
      "outputs": []
    }
  ]
}