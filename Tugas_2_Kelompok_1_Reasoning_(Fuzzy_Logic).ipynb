{
  "nbformat": 4,
  "nbformat_minor": 0,
  "metadata": {
    "colab": {
      "name": "Tugas_2_Kelompok_1_Reasoning_(Fuzzy_Logic).ipynb",
      "provenance": [],
      "collapsed_sections": []
    },
    "kernelspec": {
      "name": "python3",
      "display_name": "Python 3"
    },
    "language_info": {
      "name": "python"
    }
  },
  "cells": [
    {
      "cell_type": "markdown",
      "metadata": {
        "id": "oTJaIix57PXN"
      },
      "source": [
        "# **Fuzzy Logic - Rekomendasi Restoran**\n",
        "\n",
        "Kelompok 1:\n",
        "\n",
        "\n",
        "1.   Hanvito Michael Lee - 1301190090\n",
        "2.   Kurniadi Ahmad Wijaya - 1301194024 \n",
        "3.   Naufal Haritsah Luthfi - 1301194073\n",
        "\n"
      ]
    },
    {
      "cell_type": "code",
      "metadata": {
        "id": "QV5ORJUlFobi"
      },
      "source": [
        "import numpy as np\n",
        "import pandas as pd\n",
        "import matplotlib.pyplot as plt"
      ],
      "execution_count": 33,
      "outputs": []
    },
    {
      "cell_type": "markdown",
      "metadata": {
        "id": "snCM6J-9LqL3"
      },
      "source": [
        "## **Membaca File Dataset**"
      ]
    },
    {
      "cell_type": "code",
      "metadata": {
        "id": "mlp_yFi9FxsA",
        "colab": {
          "base_uri": "https://localhost:8080/",
          "height": 295
        },
        "outputId": "b4f4d0df-f82c-4fa0-e207-c432970cdec4"
      },
      "source": [
        "data = pd.read_excel(\"https://github.com/ShinyQ/Tugas-Pengantar-AI-2_Fuzzy_Logic/blob/main/restoran.xlsx?raw=true\")\n",
        "data.sample(8)"
      ],
      "execution_count": 34,
      "outputs": [
        {
          "output_type": "execute_result",
          "data": {
            "text/html": [
              "<div>\n",
              "<style scoped>\n",
              "    .dataframe tbody tr th:only-of-type {\n",
              "        vertical-align: middle;\n",
              "    }\n",
              "\n",
              "    .dataframe tbody tr th {\n",
              "        vertical-align: top;\n",
              "    }\n",
              "\n",
              "    .dataframe thead th {\n",
              "        text-align: right;\n",
              "    }\n",
              "</style>\n",
              "<table border=\"1\" class=\"dataframe\">\n",
              "  <thead>\n",
              "    <tr style=\"text-align: right;\">\n",
              "      <th></th>\n",
              "      <th>id</th>\n",
              "      <th>pelayanan</th>\n",
              "      <th>makanan</th>\n",
              "    </tr>\n",
              "  </thead>\n",
              "  <tbody>\n",
              "    <tr>\n",
              "      <th>51</th>\n",
              "      <td>52</td>\n",
              "      <td>94</td>\n",
              "      <td>3</td>\n",
              "    </tr>\n",
              "    <tr>\n",
              "      <th>63</th>\n",
              "      <td>64</td>\n",
              "      <td>35</td>\n",
              "      <td>2</td>\n",
              "    </tr>\n",
              "    <tr>\n",
              "      <th>46</th>\n",
              "      <td>47</td>\n",
              "      <td>21</td>\n",
              "      <td>3</td>\n",
              "    </tr>\n",
              "    <tr>\n",
              "      <th>79</th>\n",
              "      <td>80</td>\n",
              "      <td>39</td>\n",
              "      <td>10</td>\n",
              "    </tr>\n",
              "    <tr>\n",
              "      <th>56</th>\n",
              "      <td>57</td>\n",
              "      <td>24</td>\n",
              "      <td>3</td>\n",
              "    </tr>\n",
              "    <tr>\n",
              "      <th>97</th>\n",
              "      <td>98</td>\n",
              "      <td>27</td>\n",
              "      <td>10</td>\n",
              "    </tr>\n",
              "    <tr>\n",
              "      <th>89</th>\n",
              "      <td>90</td>\n",
              "      <td>10</td>\n",
              "      <td>1</td>\n",
              "    </tr>\n",
              "    <tr>\n",
              "      <th>21</th>\n",
              "      <td>22</td>\n",
              "      <td>79</td>\n",
              "      <td>9</td>\n",
              "    </tr>\n",
              "  </tbody>\n",
              "</table>\n",
              "</div>"
            ],
            "text/plain": [
              "    id  pelayanan  makanan\n",
              "51  52         94        3\n",
              "63  64         35        2\n",
              "46  47         21        3\n",
              "79  80         39       10\n",
              "56  57         24        3\n",
              "97  98         27       10\n",
              "89  90         10        1\n",
              "21  22         79        9"
            ]
          },
          "metadata": {
            "tags": []
          },
          "execution_count": 34
        }
      ]
    },
    {
      "cell_type": "markdown",
      "metadata": {
        "id": "YuOjvFRcLuLm"
      },
      "source": [
        "# **Fuzzifikasi**"
      ]
    },
    {
      "cell_type": "markdown",
      "metadata": {
        "id": "4gtjFihFpwPR"
      },
      "source": [
        "## **Membership Function**"
      ]
    },
    {
      "cell_type": "markdown",
      "metadata": {
        "id": "Hws7yn5ah0xG"
      },
      "source": [
        "#### **Fungsi Keanggotaan Makanan**\n",
        "#####  Nilai makanan ≤ 3 bernilai Tidak Enak\n",
        "##### Nilai 4 ≤ makanan ≤ 6 bernilai Biasa\n",
        "##### Nilai 7 ≤ makanan ≤ 8 bernilai Enak\n",
        "##### Nilai makanan ≥ 9 bernilai Sangat Enak"
      ]
    },
    {
      "cell_type": "code",
      "metadata": {
        "id": "Qx7b8dop3brr"
      },
      "source": [
        "def fuzzy_makanan(x):\n",
        "    makanan = {'Tidak Enak': 0, 'Biasa': 0, 'Enak': 0, 'Sangat Enak': 0}\n",
        "\n",
        "    a, b, c, d, e, f = 3, 4, 6, 7, 8, 9\n",
        "\n",
        "    # Garis Datar\n",
        "    if x <= a:\n",
        "        makanan['Tidak Enak'] = 1\n",
        "    if b <= x <= c:\n",
        "        makanan['Biasa'] = 1\n",
        "    if d <= x <= e:\n",
        "        makanan['Enak'] = 1\n",
        "    if x >= f:\n",
        "        makanan['Sangat Enak'] = 1\n",
        "    \n",
        "    # Garis Miring (Gradient)\n",
        "    if a < x <= b:\n",
        "        makanan['Tidak Enak'] = -(x - b) / (b - a)\n",
        "    if a < x < b:\n",
        "        makanan['Biasa'] = (x - a) / (b - a)\n",
        "    if c < x <= d:\n",
        "        makanan['Biasa'] = -(x - d) / (d - c)\n",
        "    if c < x < d:\n",
        "        makanan['Enak'] = (x - c) / (d - c)\n",
        "    if e < x < f:\n",
        "        makanan['Enak'] = -(x - f) / (f - e)\n",
        "    if e < x <= f:\n",
        "        makanan['Sangat Enak'] = (x - e) / (f - e)\n",
        "        \n",
        "    return makanan"
      ],
      "execution_count": 35,
      "outputs": []
    },
    {
      "cell_type": "code",
      "metadata": {
        "id": "seNGl3RdkAVo",
        "colab": {
          "base_uri": "https://localhost:8080/",
          "height": 241
        },
        "outputId": "17ce9b15-8662-4115-9eb8-efb5e6e1277f"
      },
      "source": [
        "plt.figure(figsize=(10, 3))\n",
        "plt.title(\"Fungsi Keanggotaan Kualitas Makanan\")\n",
        "\n",
        "plt.plot(range(11), [fuzzy_makanan(x)['Tidak Enak'] for x in range(11)], 'r')\n",
        "plt.plot(range(11), [fuzzy_makanan(x)['Biasa'] for x in range(11)], 'y')\n",
        "plt.plot(range(11), [fuzzy_makanan(x)['Enak'] for x in range(11)], 'g')\n",
        "plt.plot(range(11), [fuzzy_makanan(x)['Sangat Enak'] for x in range(11)], 'b')\n",
        "\n",
        "plt.plot(0, 0, 'r', linewidth=1.5, label='Tidak Enak')\n",
        "plt.plot(0, 0, 'y', linewidth=1.5, label='Biasa')\n",
        "plt.plot(0, 0, 'g', linewidth=1.5, label='Enak')\n",
        "plt.plot(0, 0, 'b', linewidth=1.5, label='Sangat Enak')\n",
        "\n",
        "plt.xticks(list(range(11)))\n",
        "plt.xlabel(\"value / x\")\n",
        "plt.legend()\n",
        "plt.show()"
      ],
      "execution_count": 36,
      "outputs": [
        {
          "output_type": "display_data",
          "data": {
            "image/png": "[encoded data removed]",
            "text/plain": [
              "<Figure size 720x216 with 1 Axes>"
            ]
          },
          "metadata": {
            "tags": [],
            "needs_background": "light"
          }
        }
      ]
    },
    {
      "cell_type": "markdown",
      "metadata": {
        "id": "kHeG7VZ-iWhW"
      },
      "source": [
        "#### **Fungsi Keanggotaan Pelayanan**\n",
        "##### Nilai pelayanan ≤ 30 bernilai Sangat Kurang\n",
        "##### Nilai 35 ≤ pelayanan ≤ 60 bernilai Kurang dengan nilai dari 31 - 64\n",
        "##### Nilai 65 ≤ pelayanan ≤ 75 bernilai Baik dengan nilai dari 61 - 79\n",
        "##### Nilai pelayanan ≥ 80 bernilai Sangat Baik"
      ]
    },
    {
      "cell_type": "code",
      "metadata": {
        "id": "uCxKDOiwS81I"
      },
      "source": [
        "def fuzzy_pelayanan(x):\n",
        "    pelayanan = {'Sangat Kurang': 0, 'Kurang': 0, 'Baik': 0, 'Sangat Baik': 0}\n",
        "\n",
        "    a, b, c, d, e, f = 30, 35, 60, 65, 75, 80\n",
        "    \n",
        "    # Garis Datar\n",
        "    if x <= a:\n",
        "        pelayanan['Sangat Kurang'] = 1\n",
        "    if b <= x <= c:\n",
        "        pelayanan['Kurang'] = 1\n",
        "    if d <= x <= e:\n",
        "        pelayanan['Baik'] = 1\n",
        "    if x >= f:\n",
        "        pelayanan['Sangat Baik'] = 1\n",
        "\n",
        "    # Garis Miring (Gradient)   \n",
        "    if a < x <= b:\n",
        "        pelayanan['Sangat Kurang'] = -(x - b) / (b - a)\n",
        "    if a < x < b:\n",
        "        pelayanan['Kurang'] = (x - a) / (b - a)\n",
        "    if c < x <= d:\n",
        "        pelayanan['Kurang'] = -(x - d) / (d - c)\n",
        "    if c < x < d:\n",
        "        pelayanan['Baik'] = (x - c) / (d - c)\n",
        "    if e < x < f:\n",
        "        pelayanan['Baik'] = -(x - f) / (f - e)\n",
        "    if e < x <= f:\n",
        "        pelayanan['Sangat Baik'] = (x - e) / (f - e)\n",
        "        \n",
        "    return pelayanan"
      ],
      "execution_count": 37,
      "outputs": []
    },
    {
      "cell_type": "code",
      "metadata": {
        "id": "CvqQSoTVu07T",
        "colab": {
          "base_uri": "https://localhost:8080/",
          "height": 241
        },
        "outputId": "276e476a-2d15-4737-f4f8-e8c672620f46"
      },
      "source": [
        "plt.figure(figsize=(12, 3))\n",
        "plt.title(\"Fungsi Keanggotaan Kualitas Pelayanan\")\n",
        "\n",
        "plt.plot(range(101), [fuzzy_pelayanan(x)['Sangat Kurang'] for x in range(101)], 'y')\n",
        "plt.plot(range(101), [fuzzy_pelayanan(x)['Kurang'] for x in range(101)], 'r')\n",
        "plt.plot(range(101), [fuzzy_pelayanan(x)['Baik'] for x in range(101)], 'g')\n",
        "plt.plot(range(101), [fuzzy_pelayanan(x)['Sangat Baik'] for x in range(101)], 'b')\n",
        "\n",
        "plt.plot(0, 0, 'y', linewidth=1.5, label='Sangat Kurang')\n",
        "plt.plot(0, 0, 'r', linewidth=1.5, label='Kurang')\n",
        "plt.plot(0, 0, 'g', linewidth=1.5, label='Baik')\n",
        "plt.plot(0, 0, 'b', linewidth=1.5, label='Sangat Baik')\n",
        "\n",
        "plt.xticks(np.arange(0, 105, 5.0))\n",
        "plt.xlabel(\"value / x\")\n",
        "plt.legend()\n",
        "plt.show()"
      ],
      "execution_count": 38,
      "outputs": [
        {
          "output_type": "display_data",
          "data": {
            "image/png": "[encoded data removed]",
            "text/plain": [
              "<Figure size 864x216 with 1 Axes>"
            ]
          },
          "metadata": {
            "tags": [],
            "needs_background": "light"
          }
        }
      ]
    },
    {
      "cell_type": "markdown",
      "metadata": {
        "id": "3cH5Ufn0p6yW"
      },
      "source": [
        "## **Proses Fuzzifikasi**"
      ]
    },
    {
      "cell_type": "code",
      "metadata": {
        "id": "mtxrfe8rhhQU"
      },
      "source": [
        "fuzzify = []\n",
        "\n",
        "for pelayanan, makanan in zip(data['pelayanan'], data['makanan']):\n",
        "    fuzzy = {'Pelayanan': 0, 'Makanan': 0}\n",
        "\n",
        "    fuzzy['Pelayanan'] = fuzzy_pelayanan(pelayanan)\n",
        "    fuzzy['Makanan'] = fuzzy_makanan(makanan)\n",
        "\n",
        "    fuzzify.append(fuzzy)"
      ],
      "execution_count": 39,
      "outputs": []
    },
    {
      "cell_type": "code",
      "metadata": {
        "id": "e2V7YdJ7z72x",
        "colab": {
          "base_uri": "https://localhost:8080/"
        },
        "outputId": "4e170c08-4286-41c6-c3e6-a1013174e216"
      },
      "source": [
        "print(\"Contoh Hasil Fuzzifikasi :\\n\")\n",
        "for i in range(0, 20, 2):\n",
        "    print(\"Pelayanan :\", fuzzify[i]['Pelayanan'])\n",
        "    print(\"Makanan   :\", fuzzify[i]['Makanan'], end=\"\\n\\n\")"
      ],
      "execution_count": 40,
      "outputs": [
        {
          "output_type": "stream",
          "text": [
            "Contoh Hasil Fuzzifikasi :\n",
            "\n",
            "Pelayanan : {'Sangat Kurang': 0, 'Kurang': 1, 'Baik': 0, 'Sangat Baik': 0}\n",
            "Makanan   : {'Tidak Enak': 0, 'Biasa': 0.0, 'Enak': 1, 'Sangat Enak': 0}\n",
            "\n",
            "Pelayanan : {'Sangat Kurang': 0, 'Kurang': 0, 'Baik': 0, 'Sangat Baik': 1}\n",
            "Makanan   : {'Tidak Enak': 1, 'Biasa': 0, 'Enak': 0, 'Sangat Enak': 0}\n",
            "\n",
            "Pelayanan : {'Sangat Kurang': 1, 'Kurang': 0, 'Baik': 0, 'Sangat Baik': 0}\n",
            "Makanan   : {'Tidak Enak': 0.0, 'Biasa': 1, 'Enak': 0, 'Sangat Enak': 0}\n",
            "\n",
            "Pelayanan : {'Sangat Kurang': 0, 'Kurang': 0.8, 'Baik': 0.2, 'Sangat Baik': 0}\n",
            "Makanan   : {'Tidak Enak': 0, 'Biasa': 0, 'Enak': 1, 'Sangat Enak': 0}\n",
            "\n",
            "Pelayanan : {'Sangat Kurang': 0, 'Kurang': 1, 'Baik': 0, 'Sangat Baik': 0}\n",
            "Makanan   : {'Tidak Enak': 1, 'Biasa': 0, 'Enak': 0, 'Sangat Enak': 0}\n",
            "\n",
            "Pelayanan : {'Sangat Kurang': 1, 'Kurang': 0, 'Baik': 0, 'Sangat Baik': 0}\n",
            "Makanan   : {'Tidak Enak': 0, 'Biasa': 1, 'Enak': 0, 'Sangat Enak': 0}\n",
            "\n",
            "Pelayanan : {'Sangat Kurang': 0, 'Kurang': 0, 'Baik': 0, 'Sangat Baik': 1.0}\n",
            "Makanan   : {'Tidak Enak': 1, 'Biasa': 0, 'Enak': 0, 'Sangat Enak': 0}\n",
            "\n",
            "Pelayanan : {'Sangat Kurang': 0, 'Kurang': 0, 'Baik': 0.4, 'Sangat Baik': 0.6}\n",
            "Makanan   : {'Tidak Enak': 0, 'Biasa': 1, 'Enak': 0, 'Sangat Enak': 0}\n",
            "\n",
            "Pelayanan : {'Sangat Kurang': 0, 'Kurang': 0, 'Baik': 1, 'Sangat Baik': 0}\n",
            "Makanan   : {'Tidak Enak': 1, 'Biasa': 0, 'Enak': 0, 'Sangat Enak': 0}\n",
            "\n",
            "Pelayanan : {'Sangat Kurang': 0, 'Kurang': 1, 'Baik': 0, 'Sangat Baik': 0}\n",
            "Makanan   : {'Tidak Enak': 1, 'Biasa': 0, 'Enak': 0, 'Sangat Enak': 0}\n",
            "\n"
          ],
          "name": "stdout"
        }
      ]
    },
    {
      "cell_type": "markdown",
      "metadata": {
        "id": "suorer8TLy2m"
      },
      "source": [
        "# **Inferensi**"
      ]
    },
    {
      "cell_type": "markdown",
      "metadata": {
        "id": "fmwnTijctp0A"
      },
      "source": [
        "## **Fuzzy Set Rules (Konjungsi)**"
      ]
    },
    {
      "cell_type": "markdown",
      "metadata": {
        "id": "MLeAAGX08zx5"
      },
      "source": [
        "![image.png](data:image/png;base64,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)"
      ]
    },
    {
      "cell_type": "code",
      "metadata": {
        "id": "g05QO22TsULJ"
      },
      "source": [
        "# Untuk setiap rules merupakan Konjungsi.\n",
        "# Contoh: IF Makanan = Tidak Enak (1) Λ Pelayanan = Sangat Kurang (1) THEN Status = Tidak Direkomendasikan (1)\n",
        "\n",
        "fuzzy_set_rules = {\n",
        "    ('Tidak Enak', 'Sangat Kurang') : 'Tidak Direkomendasikan',\n",
        "    ('Tidak Enak', 'Kurang') : 'Tidak Direkomendasikan',\n",
        "    ('Tidak Enak', 'Baik') : 'Tidak Direkomendasikan',\n",
        "    ('Tidak Enak', 'Sangat Baik') : 'Tidak Direkomendasikan',\n",
        "    ('Biasa', 'Sangat Kurang') : 'Tidak Direkomendasikan',\n",
        "    ('Biasa', 'Kurang') : 'Tidak Direkomendasikan',\n",
        "    ('Biasa', 'Baik') : 'Direkomendasikan',\n",
        "    ('Biasa', 'Sangat Baik') : 'Direkomendasikan',\n",
        "    ('Enak', 'Sangat Kurang') : 'Tidak Direkomendasikan',\n",
        "    ('Enak', 'Kurang') : 'Direkomendasikan',\n",
        "    ('Enak', 'Baik') : 'Direkomendasikan',\n",
        "    ('Enak', 'Sangat Baik') : 'Sangat Direkomendasikan',\n",
        "    ('Sangat Enak', 'Sangat Kurang') : 'Tidak Direkomendasikan',\n",
        "    ('Sangat Enak', 'Kurang') : 'Direkomendasikan',\n",
        "    ('Sangat Enak', 'Baik') : 'Sangat Direkomendasikan',\n",
        "    ('Sangat Enak', 'Sangat Baik') : 'Sangat Direkomendasikan',\n",
        "}"
      ],
      "execution_count": 41,
      "outputs": []
    },
    {
      "cell_type": "markdown",
      "metadata": {
        "id": "FBF7qf7Q5Ef7"
      },
      "source": [
        "## **Proses Inferensi**"
      ]
    },
    {
      "cell_type": "code",
      "metadata": {
        "id": "5Z2nb3EuMN12"
      },
      "source": [
        "inference_result = []\n",
        "\n",
        "def inference(fuzzed):\n",
        "    result = {'Tidak Direkomendasikan': 0, \"Direkomendasikan\": 0, \"Sangat Direkomendasikan\": 0}\n",
        "\n",
        "    for Pelayanan in fuzzed['Pelayanan'].keys():\n",
        "        for Makanan in fuzzed['Makanan'].keys():\n",
        "            min_value = min(fuzzed['Makanan'][Makanan], fuzzed['Pelayanan'][Pelayanan])\n",
        "\n",
        "            # Proses Conjunction Sesuai Fuzzy Rules pada variabel fuzzy_set_rules\n",
        "            output = fuzzy_set_rules[(Makanan, Pelayanan)]\n",
        "\n",
        "            if min_value > result[output]:\n",
        "               result[output] = min_value\n",
        "\n",
        "    return result"
      ],
      "execution_count": 42,
      "outputs": []
    },
    {
      "cell_type": "code",
      "metadata": {
        "id": "7GCmE2bgz400",
        "colab": {
          "base_uri": "https://localhost:8080/"
        },
        "outputId": "aed146af-ce3d-4be8-932c-83537e57de64"
      },
      "source": [
        "for fuzzed in fuzzify:\n",
        "    inference_result.append(inference(fuzzed))\n",
        "\n",
        "print(\"Contoh Hasil Inferensi :\\n\")\n",
        "for i in range(0, 40, 2):\n",
        "    print(inference_result[i])"
      ],
      "execution_count": 43,
      "outputs": [
        {
          "output_type": "stream",
          "text": [
            "Contoh Hasil Inferensi :\n",
            "\n",
            "{'Tidak Direkomendasikan': 0, 'Direkomendasikan': 1, 'Sangat Direkomendasikan': 0}\n",
            "{'Tidak Direkomendasikan': 1, 'Direkomendasikan': 0, 'Sangat Direkomendasikan': 0}\n",
            "{'Tidak Direkomendasikan': 1, 'Direkomendasikan': 0, 'Sangat Direkomendasikan': 0}\n",
            "{'Tidak Direkomendasikan': 0, 'Direkomendasikan': 0.8, 'Sangat Direkomendasikan': 0}\n",
            "{'Tidak Direkomendasikan': 1, 'Direkomendasikan': 0, 'Sangat Direkomendasikan': 0}\n",
            "{'Tidak Direkomendasikan': 1, 'Direkomendasikan': 0, 'Sangat Direkomendasikan': 0}\n",
            "{'Tidak Direkomendasikan': 1, 'Direkomendasikan': 0, 'Sangat Direkomendasikan': 0}\n",
            "{'Tidak Direkomendasikan': 0, 'Direkomendasikan': 0.6, 'Sangat Direkomendasikan': 0}\n",
            "{'Tidak Direkomendasikan': 1, 'Direkomendasikan': 0, 'Sangat Direkomendasikan': 0}\n",
            "{'Tidak Direkomendasikan': 1, 'Direkomendasikan': 0, 'Sangat Direkomendasikan': 0}\n",
            "{'Tidak Direkomendasikan': 1, 'Direkomendasikan': 0, 'Sangat Direkomendasikan': 0}\n",
            "{'Tidak Direkomendasikan': 1, 'Direkomendasikan': 0, 'Sangat Direkomendasikan': 0}\n",
            "{'Tidak Direkomendasikan': 0, 'Direkomendasikan': 0.8, 'Sangat Direkomendasikan': 0.2}\n",
            "{'Tidak Direkomendasikan': 0, 'Direkomendasikan': 1, 'Sangat Direkomendasikan': 0}\n",
            "{'Tidak Direkomendasikan': 1, 'Direkomendasikan': 0, 'Sangat Direkomendasikan': 0}\n",
            "{'Tidak Direkomendasikan': 0, 'Direkomendasikan': 0, 'Sangat Direkomendasikan': 1.0}\n",
            "{'Tidak Direkomendasikan': 0.4, 'Direkomendasikan': 0.6, 'Sangat Direkomendasikan': 0}\n",
            "{'Tidak Direkomendasikan': 1, 'Direkomendasikan': 0, 'Sangat Direkomendasikan': 0}\n",
            "{'Tidak Direkomendasikan': 0.8, 'Direkomendasikan': 0, 'Sangat Direkomendasikan': 0}\n",
            "{'Tidak Direkomendasikan': 0, 'Direkomendasikan': 1, 'Sangat Direkomendasikan': 0}\n"
          ],
          "name": "stdout"
        }
      ]
    },
    {
      "cell_type": "markdown",
      "metadata": {
        "id": "1JKS6HXkL2mf"
      },
      "source": [
        "# **Defuzzifikasi**"
      ]
    },
    {
      "cell_type": "code",
      "metadata": {
        "id": "ZGZqsq5juIZH",
        "colab": {
          "base_uri": "https://localhost:8080/",
          "height": 227
        },
        "outputId": "69dd47e7-30a3-413a-c6f0-7b93fd65262e"
      },
      "source": [
        "plt.figure(figsize=(8, 3))\n",
        "plt.title(\"Sugeno Model Singleton\")\n",
        "\n",
        "plt.plot([50, 50], [0, 1], label=\"Tidak Direkomendasikan\")\n",
        "plt.plot([75, 75], [0, 1], label=\"Direkomendasikan\")\n",
        "plt.plot([100, 100], [0, 1], label=\"Sangat Direkomendasikan\")\n",
        "plt.xticks(np.arange(0, 110, 10.0))\n",
        "plt.legend()\n",
        "plt.show()"
      ],
      "execution_count": 44,
      "outputs": [
        {
          "output_type": "display_data",
          "data": {
            "image/png": "[encoded data removed]",
            "text/plain": [
              "<Figure size 576x216 with 1 Axes>"
            ]
          },
          "metadata": {
            "tags": [],
            "needs_background": "light"
          }
        }
      ]
    },
    {
      "cell_type": "code",
      "metadata": {
        "id": "PBHX_0kLMOlF"
      },
      "source": [
        "deffuzy = {'Tidak Direkomendasikan': 50, \"Direkomendasikan\": 75, \"Sangat Direkomendasikan\": 100}\n",
        "\n",
        "def defuzzification(inference, deffuzy):\n",
        "    numerator, denominator = 0, 0\n",
        "    \n",
        "    for output in deffuzy.keys():\n",
        "        numerator += inference[output] * deffuzy[output]\n",
        "        denominator += inference[output]\n",
        "        \n",
        "    return numerator/denominator\n",
        "\n",
        "final = []\n",
        "\n",
        "for inference in inference_result:\n",
        "    final.append(defuzzification(inference, deffuzy)) "
      ],
      "execution_count": 45,
      "outputs": []
    },
    {
      "cell_type": "code",
      "metadata": {
        "id": "u9oaDt5m0CDK",
        "colab": {
          "base_uri": "https://localhost:8080/"
        },
        "outputId": "1addf139-aeab-42b8-afc5-28bf6aa698e4"
      },
      "source": [
        "print(\"Contoh Hasil Defuzifikasi:\\n\")\n",
        "for i in range(0, 40, 5):\n",
        "    print(f'Data Ke-{i+1} = {final[i]}')   "
      ],
      "execution_count": 46,
      "outputs": [
        {
          "output_type": "stream",
          "text": [
            "Contoh Hasil Defuzifikasi:\n",
            "\n",
            "Data Ke-1 = 75.0\n",
            "Data Ke-6 = 75.0\n",
            "Data Ke-11 = 50.0\n",
            "Data Ke-16 = 75.0\n",
            "Data Ke-21 = 50.0\n",
            "Data Ke-26 = 50.0\n",
            "Data Ke-31 = 100.0\n",
            "Data Ke-36 = 50.0\n"
          ],
          "name": "stdout"
        }
      ]
    },
    {
      "cell_type": "markdown",
      "metadata": {
        "id": "68j_sn07MfJe"
      },
      "source": [
        "# **Hasil**"
      ]
    },
    {
      "cell_type": "code",
      "metadata": {
        "id": "OObZIIWwX1aV",
        "colab": {
          "base_uri": "https://localhost:8080/",
          "height": 357
        },
        "outputId": "538837d9-afc0-4f3c-cfd6-9c3abc166f26"
      },
      "source": [
        "data['result'] = final\n",
        "data = data.sort_values(by='result', ascending=False)[:10]\n",
        "\n",
        "data['id'].to_excel('peringkat.xls', index=False, header=False)  \n",
        "data"
      ],
      "execution_count": 47,
      "outputs": [
        {
          "output_type": "execute_result",
          "data": {
            "text/html": [
              "<div>\n",
              "<style scoped>\n",
              "    .dataframe tbody tr th:only-of-type {\n",
              "        vertical-align: middle;\n",
              "    }\n",
              "\n",
              "    .dataframe tbody tr th {\n",
              "        vertical-align: top;\n",
              "    }\n",
              "\n",
              "    .dataframe thead th {\n",
              "        text-align: right;\n",
              "    }\n",
              "</style>\n",
              "<table border=\"1\" class=\"dataframe\">\n",
              "  <thead>\n",
              "    <tr style=\"text-align: right;\">\n",
              "      <th></th>\n",
              "      <th>id</th>\n",
              "      <th>pelayanan</th>\n",
              "      <th>makanan</th>\n",
              "      <th>result</th>\n",
              "    </tr>\n",
              "  </thead>\n",
              "  <tbody>\n",
              "    <tr>\n",
              "      <th>23</th>\n",
              "      <td>24</td>\n",
              "      <td>100</td>\n",
              "      <td>9</td>\n",
              "      <td>100.0</td>\n",
              "    </tr>\n",
              "    <tr>\n",
              "      <th>41</th>\n",
              "      <td>42</td>\n",
              "      <td>94</td>\n",
              "      <td>10</td>\n",
              "      <td>100.0</td>\n",
              "    </tr>\n",
              "    <tr>\n",
              "      <th>30</th>\n",
              "      <td>31</td>\n",
              "      <td>74</td>\n",
              "      <td>9</td>\n",
              "      <td>100.0</td>\n",
              "    </tr>\n",
              "    <tr>\n",
              "      <th>78</th>\n",
              "      <td>79</td>\n",
              "      <td>87</td>\n",
              "      <td>9</td>\n",
              "      <td>100.0</td>\n",
              "    </tr>\n",
              "    <tr>\n",
              "      <th>68</th>\n",
              "      <td>69</td>\n",
              "      <td>86</td>\n",
              "      <td>10</td>\n",
              "      <td>100.0</td>\n",
              "    </tr>\n",
              "    <tr>\n",
              "      <th>21</th>\n",
              "      <td>22</td>\n",
              "      <td>79</td>\n",
              "      <td>9</td>\n",
              "      <td>100.0</td>\n",
              "    </tr>\n",
              "    <tr>\n",
              "      <th>53</th>\n",
              "      <td>54</td>\n",
              "      <td>64</td>\n",
              "      <td>10</td>\n",
              "      <td>95.0</td>\n",
              "    </tr>\n",
              "    <tr>\n",
              "      <th>69</th>\n",
              "      <td>70</td>\n",
              "      <td>78</td>\n",
              "      <td>8</td>\n",
              "      <td>90.0</td>\n",
              "    </tr>\n",
              "    <tr>\n",
              "      <th>62</th>\n",
              "      <td>63</td>\n",
              "      <td>78</td>\n",
              "      <td>7</td>\n",
              "      <td>90.0</td>\n",
              "    </tr>\n",
              "    <tr>\n",
              "      <th>24</th>\n",
              "      <td>25</td>\n",
              "      <td>61</td>\n",
              "      <td>10</td>\n",
              "      <td>80.0</td>\n",
              "    </tr>\n",
              "  </tbody>\n",
              "</table>\n",
              "</div>"
            ],
            "text/plain": [
              "    id  pelayanan  makanan  result\n",
              "23  24        100        9   100.0\n",
              "41  42         94       10   100.0\n",
              "30  31         74        9   100.0\n",
              "78  79         87        9   100.0\n",
              "68  69         86       10   100.0\n",
              "21  22         79        9   100.0\n",
              "53  54         64       10    95.0\n",
              "69  70         78        8    90.0\n",
              "62  63         78        7    90.0\n",
              "24  25         61       10    80.0"
            ]
          },
          "metadata": {
            "tags": []
          },
          "execution_count": 47
        }
      ]
    }
  ]
}